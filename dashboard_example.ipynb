{
 "cells": [
  {
   "cell_type": "markdown",
   "metadata": {
    "deletable": true,
    "editable": true,
    "extensions": {
     "jupyter_dashboards": {
      "version": 1,
      "views": {
       "grid_default": {
        "col": 0,
        "height": 2,
        "hidden": false,
        "row": 0,
        "width": 12
       },
       "report_default": {
        "hidden": false
       }
      }
     }
    }
   },
   "source": [
    "# Archive statistics"
   ]
  },
  {
   "cell_type": "code",
   "execution_count": 1,
   "metadata": {
    "ExecuteTime": {
     "end_time": "2017-02-15T17:50:29.842991",
     "start_time": "2017-02-15T17:50:29.174991"
    },
    "collapsed": false,
    "deletable": true,
    "editable": true,
    "extensions": {
     "jupyter_dashboards": {
      "version": 1,
      "views": {
       "grid_default": {
        "hidden": true
       },
       "report_default": {
        "hidden": true
       }
      }
     }
    }
   },
   "outputs": [],
   "source": [
    "import ipywidgets as widgets\n",
    "widgets.Widget.widget_types\n",
    "import requests\n",
    "import geopy\n",
    "#import pandas as pd\n",
    "from IPython.display import display\n",
    "\n",
    "%matplotlib inline\n",
    "\n",
    "#import seaborn as sns\n",
    "#import plotly\n",
    "from ipywidgets import interact\n",
    "from ipywidgets import Label, Layout\n",
    "\n",
    "from geopy.geocoders import Nominatim\n",
    "geolocator = Nominatim(timeout=3)\n",
    "\n",
    "from IPython.display import clear_output\n",
    "\n",
    "#import json\n",
    "#import datacube\n",
    "\n",
    "#dc = datacube.Datacube(app='dc-example')\n",
    "\n",
    "import geopandas\n",
    "import itertools\n",
    "\n",
    "import os, json, requests, time\n",
    "import pandas as pd\n",
    "import geopandas as gpd\n",
    "from shapely.geometry import Polygon\n",
    "import gzip, zipfile\n",
    "\n",
    "import datacube\n",
    "from datacube.utils import geometry\n",
    "from datacube.model import Range\n",
    "from datetime import datetime\n",
    "from datetime import timedelta\n",
    "import shapely\n",
    "from datacube.api import GridWorkflow\n",
    "from datacube.utils.geometry import CRS\n",
    "from shapely.geometry import mapping\n",
    "\n",
    "import json\n",
    "\n",
    "dc = datacube.Datacube()\n",
    "\n",
    "import matplotlib as mpl\n",
    "import matplotlib.cm\n",
    "import matplotlib.colors\n",
    "import numpy as np"
   ]
  },
  {
   "cell_type": "code",
   "execution_count": 2,
   "metadata": {
    "collapsed": false,
    "deletable": true,
    "editable": true,
    "extensions": {
     "jupyter_dashboards": {
      "version": 1,
      "views": {
       "grid_default": {
        "col": 6,
        "height": 13,
        "hidden": true,
        "row": 17,
        "width": 6
       },
       "report_default": {
        "hidden": true
       }
      }
     }
    }
   },
   "outputs": [],
   "source": [
    "products = dc.list_products()['description'].tolist()\n",
    "products_name = dc.list_products()['name'].tolist()\n",
    "center = [-26, 132]\n",
    "zoom = 3"
   ]
  },
  {
   "cell_type": "code",
   "execution_count": 3,
   "metadata": {
    "collapsed": false,
    "deletable": true,
    "editable": true,
    "extensions": {
     "jupyter_dashboards": {
      "version": 1,
      "views": {
       "grid_default": {
        "hidden": true
       },
       "report_default": {
        "hidden": true
       }
      }
     }
    }
   },
   "outputs": [],
   "source": [
    "# Create a dict to allow product picker with description\n",
    "products_name = dc.list_products()['name'].tolist()\n",
    "product_dict = {}\n",
    "for idx, val in enumerate(products):\n",
    "    product_dict[val]= products_name[idx]"
   ]
  },
  {
   "cell_type": "code",
   "execution_count": 4,
   "metadata": {
    "ExecuteTime": {
     "end_time": "2017-02-15T17:50:53.591991",
     "start_time": "2017-02-15T17:50:53.582991"
    },
    "collapsed": false,
    "deletable": true,
    "editable": true,
    "extensions": {
     "jupyter_dashboards": {
      "version": 1,
      "views": {
       "grid_default": {
        "hidden": true
       },
       "report_default": {
        "hidden": true
       }
      }
     }
    }
   },
   "outputs": [],
   "source": [
    "from __future__ import print_function\n",
    "\n",
    "from ipyleaflet import (\n",
    "    Map,\n",
    "    Marker,\n",
    "    TileLayer, ImageOverlay,\n",
    "    Polyline, Polygon, Rectangle, Circle, CircleMarker,\n",
    "    GeoJSON,\n",
    "    DrawControl\n",
    ")\n",
    "\n",
    "from traitlets import link"
   ]
  },
  {
   "cell_type": "code",
   "execution_count": 5,
   "metadata": {
    "ExecuteTime": {
     "end_time": "2017-02-15T17:52:41.679991",
     "start_time": "2017-02-15T17:52:41.656991"
    },
    "collapsed": false,
    "deletable": true,
    "editable": true,
    "extensions": {
     "jupyter_dashboards": {
      "version": 1,
      "views": {
       "grid_default": {
        "col": 0,
        "height": 4,
        "hidden": true,
        "row": 26,
        "width": 4
       },
       "report_default": {
        "hidden": true
       }
      }
     }
    }
   },
   "outputs": [],
   "source": [
    "aoi_picker = widgets.Text(value='Canberra',placeholder='update this field',\n",
    "    description='placename search',\n",
    "    disabled=False)\n",
    "def handle_submit(sender):\n",
    "    global location\n",
    "    global center\n",
    "    global zoom\n",
    "    location = geolocator.geocode(aoi_picker.value)\n",
    "    center = [location.latitude, location.longitude]\n",
    "    zoom = 13\n",
    "    print(center)\n",
    "aoi_picker.on_submit(handle_submit)"
   ]
  },
  {
   "cell_type": "code",
   "execution_count": 6,
   "metadata": {
    "ExecuteTime": {
     "end_time": "2017-02-15T17:50:54.850991",
     "start_time": "2017-02-15T17:50:54.831991"
    },
    "collapsed": false,
    "deletable": true,
    "editable": true,
    "extensions": {
     "jupyter_dashboards": {
      "version": 1,
      "views": {
       "grid_default": {
        "col": 8,
        "height": 4,
        "hidden": true,
        "row": 16,
        "width": 4
       },
       "report_default": {
        "hidden": true
       }
      }
     }
    }
   },
   "outputs": [],
   "source": [
    "#TODO Replace with datapicker widget when ipywidgets devs sort this out\n",
    "from_date_picker = widgets.Text(value='2000-12-31',placeholder='update this field',\n",
    "    description='start date',\n",
    "    disabled=False)\n",
    "def handle_from_date(sender):\n",
    "    print(from_date_picker.value)\n",
    "from_date_picker.on_submit(handle_from_date)"
   ]
  },
  {
   "cell_type": "code",
   "execution_count": 7,
   "metadata": {
    "ExecuteTime": {
     "end_time": "2017-02-15T17:50:55.368991",
     "start_time": "2017-02-15T17:50:55.339991"
    },
    "collapsed": false,
    "deletable": true,
    "editable": true,
    "extensions": {
     "jupyter_dashboards": {
      "version": 1,
      "views": {
       "grid_default": {
        "col": 5,
        "height": 4,
        "hidden": true,
        "row": 23,
        "width": 4
       },
       "report_default": {
        "hidden": true
       }
      }
     }
    }
   },
   "outputs": [],
   "source": [
    "#TODO Replace with datapicker widget when ipywidgets devs sort this out\n",
    "to_date_picker = widgets.Text(value='2001-01-01',placeholder='update this field',\n",
    "    description='end date',\n",
    "    disabled=False)\n",
    "def handle_to_date(sender):\n",
    "    print(to_date_picker.value)\n",
    "to_date_picker.on_submit(handle_to_date)"
   ]
  },
  {
   "cell_type": "code",
   "execution_count": 8,
   "metadata": {
    "ExecuteTime": {
     "end_time": "2017-02-15T17:50:55.789991",
     "start_time": "2017-02-15T17:50:55.773991"
    },
    "collapsed": false,
    "deletable": true,
    "editable": true,
    "extensions": {
     "jupyter_dashboards": {
      "version": 1,
      "views": {
       "grid_default": {
        "hidden": true
       },
       "report_default": {
        "hidden": true
       }
      }
     }
    }
   },
   "outputs": [],
   "source": [
    "product_picker = widgets.RadioButtons(\n",
    "    options=products,\n",
    "    description='product:',\n",
    "    disabled=False\n",
    ")"
   ]
  },
  {
   "cell_type": "code",
   "execution_count": 9,
   "metadata": {
    "collapsed": false,
    "deletable": true,
    "editable": true,
    "extensions": {
     "jupyter_dashboards": {
      "version": 1,
      "views": {
       "grid_default": {
        "hidden": true
       },
       "report_default": {
        "hidden": true
       }
      }
     }
    }
   },
   "outputs": [],
   "source": [
    "zoom_picker =widgets.RadioButtons(\n",
    "    options=['city','regional', 'country'],\n",
    "    description='zoom:',\n",
    "    disabled=False\n",
    ")"
   ]
  },
  {
   "cell_type": "code",
   "execution_count": 10,
   "metadata": {
    "collapsed": false,
    "deletable": true,
    "editable": true,
    "extensions": {
     "jupyter_dashboards": {
      "version": 1,
      "views": {
       "grid_default": {
        "hidden": true
       },
       "report_default": {
        "hidden": true
       }
      }
     }
    }
   },
   "outputs": [],
   "source": [
    "#stats_picker =widgets.RadioButtons(\n",
    "#    options=['count files with bounds intersecting AOI','count all files'],\n",
    "#    description='zoom:',\n",
    "#    disabled=False\n",
    "#)"
   ]
  },
  {
   "cell_type": "code",
   "execution_count": 14,
   "metadata": {
    "ExecuteTime": {
     "end_time": "2017-02-15T17:52:50.986991",
     "start_time": "2017-02-15T17:52:50.952991"
    },
    "collapsed": false,
    "deletable": true,
    "editable": true,
    "extensions": {
     "jupyter_dashboards": {
      "version": 1,
      "views": {
       "grid_default": {
        "col": 0,
        "height": 14,
        "hidden": false,
        "row": 2,
        "width": 6
       },
       "report_default": {
        "hidden": false
       }
      }
     }
    }
   },
   "outputs": [],
   "source": [
    "accordion = widgets.Accordion(children=[product_picker,from_date_picker, to_date_picker, aoi_picker,zoom_picker])#,stats_picker ])\n",
    "accordion.set_title(0, 'product')\n",
    "accordion.set_title(1, 'from date')\n",
    "accordion.set_title(2, 'to date')\n",
    "accordion.set_title(3, 'placename')\n",
    "accordion.set_title(4, 'zoom level')\n",
    "#accordion.set_title(5, 'statistic')\n",
    "accordion"
   ]
  },
  {
   "cell_type": "code",
   "execution_count": 15,
   "metadata": {
    "collapsed": false,
    "deletable": true,
    "editable": true,
    "extensions": {
     "jupyter_dashboards": {
      "version": 1,
      "views": {
       "grid_default": {
        "hidden": true
       },
       "report_default": {
        "hidden": true
       }
      }
     }
    }
   },
   "outputs": [],
   "source": [
    "def geojson_grid_count(product_name, query):\n",
    "    #from_time = \n",
    "    #to_time\n",
    "    dc = datacube.Datacube()\n",
    "    gw = datacube.api.GridWorkflow(dc.index, product=product_name)\n",
    "\n",
    "    cells = gw.list_cells(group_by='solar_day', product=product_name, **query)#time=(from_time, to_time))\n",
    "\n",
    "    geojson = cells_list_to_featurecollection(cells)\n",
    "\n",
    "    return(geojson)\n",
    "\n",
    "def cells_list_to_featurecollection(cells_dict):\n",
    "    return {'type': 'FeatureCollection',\n",
    "            'features': [tile_to_geojsonfeature(tile, cell=cell_to_str(cell))\n",
    "                         for cell, tile in cells_dict.items()]}\n",
    "\n",
    "\n",
    "def tile_to_geojsonfeature(tile, **props):\n",
    "    geometry = tile.geobox.extent.to_crs(CRS('EPSG:4326')).__geo_interface__\n",
    "    feature = {'type': 'Feature',\n",
    "               'geometry': geometry,\n",
    "               'properties': dict(count=str(len(tile.sources)),\n",
    "                                  **props)}\n",
    "    return feature\n",
    "\n",
    "\n",
    "def cell_to_str(cell):\n",
    "    return ', '.join(str(el) for el in cell)\n"
   ]
  },
  {
   "cell_type": "code",
   "execution_count": 16,
   "metadata": {
    "collapsed": true,
    "extensions": {
     "jupyter_dashboards": {
      "version": 1,
      "views": {
       "grid_default": {
        "hidden": true
       },
       "report_default": {
        "hidden": true
       }
      }
     }
    }
   },
   "outputs": [],
   "source": [
    "label = Label(layout=Layout(width='100%'))\n",
    "def hover_handler(event=None, id=None, properties=None):\n",
    "            \n",
    "            label.value = properties['count']"
   ]
  },
  {
   "cell_type": "code",
   "execution_count": 17,
   "metadata": {
    "collapsed": false,
    "extensions": {
     "jupyter_dashboards": {
      "version": 1,
      "views": {
       "grid_default": {
        "hidden": true
       },
       "report_default": {
        "hidden": true
       }
      }
     }
    }
   },
   "outputs": [],
   "source": [
    "def n_colors(n, colormap=mpl.cm.hot):\n",
    "    data = np.linspace(0.0,1.0,n)\n",
    "    c = [mpl.colors.rgb2hex(d[0:3]) for d in colormap(data)]\n",
    "    return c"
   ]
  },
  {
   "cell_type": "code",
   "execution_count": 18,
   "metadata": {
    "collapsed": false,
    "extensions": {
     "jupyter_dashboards": {
      "version": 1,
      "views": {
       "grid_default": {
        "col": 0,
        "height": 15,
        "hidden": false,
        "row": 16,
        "width": 4
       },
       "report_default": {
        "hidden": false
       }
      }
     }
    }
   },
   "outputs": [],
   "source": [
    "#drawcontrol = DrawControl(polygon={'shapeOptions': {'color': '#0000FF'}}, polyline={'shapeOptions': {'color': '#00FF00'}},\n",
    "#                      circle={'shapeOptions': {'color': '#0000FF'}}, rectangle={'shapeOptions': {'color': '#0000FF'}})\n",
    "# Could include all drawcontrols but dc needs a simple geom?\n",
    "drawcontrol = DrawControl(rectangle={'shapeOptions': {'color': '#0000FF'}})"
   ]
  },
  {
   "cell_type": "code",
   "execution_count": 40,
   "metadata": {
    "ExecuteTime": {
     "end_time": "2017-02-15T17:54:27.237991",
     "start_time": "2017-02-15T17:54:27.210991"
    },
    "collapsed": false,
    "deletable": true,
    "editable": true,
    "extensions": {
     "jupyter_dashboards": {
      "version": 1,
      "views": {
       "grid_default": {
        "col": 6,
        "height": 15,
        "hidden": false,
        "row": 2,
        "width": 6
       },
       "report_default": {
        "hidden": false
       }
      }
     }
    }
   },
   "outputs": [
    {
     "name": "stdout",
     "output_type": "stream",
     "text": [
      "Processing: ls7_pq_albers 2000-12-31 2001-01-01\n"
     ]
    }
   ],
   "source": [
    "update_map = widgets.Button(description=\"Update map on click\")\n",
    "m = None\n",
    "drawcontrol.last_draw['geometry'] = None\n",
    "def update_map_clicked(button):\n",
    "    global m\n",
    "    global zoom\n",
    "    global drawcontrol\n",
    "    global data\n",
    "    \n",
    "    # clear the map\n",
    "    if m:\n",
    "        m.close()\n",
    "    # collect and set the zoom level\n",
    "    if (zoom_picker.value is 'city'):\n",
    "\n",
    "        zoom = 13\n",
    "    if (zoom_picker.value is 'regional'):\n",
    "        zoom = 7\n",
    "    else:\n",
    "        zoom = 3\n",
    "        \n",
    "    # add the DrawControl to the map\n",
    "    m = Map(center=center, zoom=zoom)\n",
    "\n",
    "    m.add_control(drawcontrol)\n",
    "\n",
    "    product = product_dict[product_picker.value]\n",
    "    \n",
    "    \n",
    "    if drawcontrol.last_draw['geometry'] is not None:\n",
    "        list_lat = []\n",
    "        list_lon = []\n",
    "        for i in drawcontrol.last_draw['geometry']['coordinates'][0]:\n",
    "            list_lon.append(i[0])\n",
    "            list_lat.append(i[1])\n",
    "\n",
    "        expression = {'time': (from_date_picker.value, to_date_picker.value),\n",
    "            'lat': (min(list_lat), max(list_lat)),\n",
    "            'lon': (min(list_lon), max(list_lon)),\n",
    "            }\n",
    "        print('Processing:', product, expression)\n",
    "        \n",
    "    else:\n",
    "        expression = {'time': (from_date_picker.value, to_date_picker.value)}\n",
    "    \n",
    "        print('Processing:', product, from_date_picker.value, to_date_picker.value)\n",
    "    \n",
    "    data = geojson_grid_count(product, expression)\n",
    "    \n",
    "    counts = []\n",
    "    for property in data['features']:\n",
    "        counts.append(property['properties']['count'])\n",
    "\n",
    "    n_features = max(set(list(map(int, counts)))) - min(set(list(map(int, counts))))\n",
    "    \n",
    "    if n_features == 0:\n",
    "        n_features = 1\n",
    "\n",
    "    colors = n_colors(n_features)\n",
    "    \n",
    "    for feature in data['features']:\n",
    "        feature['properties']['style'] = {'color':colors[int(feature['properties']['count'])- min(set(list(map(int, counts))))-1], 'weight': 1, 'fillColor':colors[int(feature['properties']['count'])- min(set(list(map(int, counts)))) -1], 'fillOpacity':0.5}\n",
    "            \n",
    "            \n",
    "    layer = GeoJSON(data=data, hover_style={'fillColor': 'red'})\n",
    "        \n",
    "    layer.on_hover(hover_handler)\n",
    "    m.add_layer(layer)\n",
    "    m.center = center\n",
    "    display(m, label)\n",
    "    \n",
    "display(update_map)\n",
    "update_map.on_click(update_map_clicked)"
   ]
  },
  {
   "cell_type": "code",
   "execution_count": 55,
   "metadata": {
    "collapsed": false,
    "extensions": {
     "jupyter_dashboards": {
      "version": 1,
      "views": {
       "grid_default": {},
       "report_default": {
        "hidden": true
       }
      }
     }
    }
   },
   "outputs": [],
   "source": [
    "save_csv = widgets.Text(value='file.csv',placeholder='enter your destination file path',\n",
    "    description='CSV export',\n",
    "    disabled=False)\n",
    "def handle_save(sender):\n",
    "    geopandas = gpd.GeoDataFrame.from_features(data['features'])\n",
    "    geopandas.to_csv('file.csv')\n",
    "    print('file saved')\n",
    "\n",
    "save_csv.on_submit(handle_save)"
   ]
  },
  {
   "cell_type": "code",
   "execution_count": 56,
   "metadata": {
    "collapsed": false,
    "extensions": {
     "jupyter_dashboards": {
      "version": 1,
      "views": {
       "grid_default": {},
       "report_default": {
        "hidden": false
       }
      }
     }
    }
   },
   "outputs": [
    {
     "name": "stdout",
     "output_type": "stream",
     "text": [
      "file saved\n"
     ]
    }
   ],
   "source": [
    "accordion0 = widgets.Accordion(children=[save_csv])\n",
    "accordion0.set_title(0, 'Export CSV')\n",
    "accordion0"
   ]
  },
  {
   "cell_type": "code",
   "execution_count": null,
   "metadata": {
    "collapsed": false,
    "extensions": {
     "jupyter_dashboards": {
      "version": 1,
      "views": {
       "grid_default": {
        "hidden": true
       },
       "report_default": {
        "hidden": false
       }
      }
     }
    }
   },
   "outputs": [],
   "source": [
    "# initialise the DrawControl to capture the geometry\n",
    "import cesiumpy\n",
    "import geopandas as gpd\n",
    "\n",
    "update_cesium = widgets.Button(description=\"Update globe on click\")\n",
    "options = dict(animation=True, baseLayerPicker=False, fullscreenButton=False,\n",
    "                geocoder=False, homeButton=False, infoBox=False, sceneModePicker=True,\n",
    "                selectionIndicator=False, navigationHelpButton=False,\n",
    "                timeline=False, navigationInstructionsInitiallyVisible=False)\n",
    "v = None\n",
    "def update_cesium_clicked(button):\n",
    "    v = cesiumpy.Viewer(**options)\n",
    "    v.entities.add(cesiumpy.Wall(positions=g, maximumHeights=10e5, minimumHeights=0, material=cesiumpy.color.RED))\n",
    "    v\n",
    "    layer = GeoJSON(data=data, hover_style={'fillColor': 'red'})\n",
    "    \n",
    "\n",
    "\n",
    "\n",
    "df = gpd.read_file(fname)\n",
    "\n",
    "print(type(df))\n",
    "\n",
    "df\n",
    "    \n",
    "    \n",
    "display(update_cesium)\n",
    "update_cesium.on_click(update_cesium_clicked)"
   ]
  },
  {
   "cell_type": "code",
   "execution_count": null,
   "metadata": {
    "collapsed": false,
    "deletable": true,
    "editable": true,
    "extensions": {
     "jupyter_dashboards": {
      "version": 1,
      "views": {
       "grid_default": {
        "hidden": true
       },
       "report_default": {
        "hidden": false
       }
      }
     }
    }
   },
   "outputs": [],
   "source": [
    "button = widgets.Button(description=\"Generate Report\")\n",
    "def on_button_clicked(button):\n",
    "    print('Generating your report now, hold onto your shorts')\n",
    "\n",
    "    #print(product_picker.value, sensor_picker.value, from_date_picker.value, to_date_picker.value, dc.last_draw['geometry'])\n",
    "    \n",
    "    if (stats_picker.value == 'count all files'):\n",
    "        product = product_dict[product_picker.value]\n",
    "        results = grid_file_count(product, from_date_picker.value, to_date_picker.value )\n",
    "        \n",
    "        dc = datacube.Datacube()\n",
    "        gw = datacube.api.GridWorkflow(dc.index, product=product)\n",
    "        print(product, from_date_picker.value, to_date_picker.value)\n",
    "        cells = gw.list_cells(product=product, time=(from_date_picker.value, to_date_picker.value))\n",
    "        \n",
    "        features = []\n",
    "        for idx, data in cells.items():\n",
    "            print(idx, data.shape[0], data.geobox.extent.to_crs(geometry.CRS('EPSG:4326')).__geo_interface__['coordinates'])\n",
    "            \n",
    "            features.append({'id' : idx, 'count': data.shape[0], 'geometry' : \\\n",
    "                            mapping(shapely.geometry.polygon.Polygon(data.geobox.extent.to_crs(datacube.utils.geometry.CRS('EPSG:4326')).__geo_interface__['coordinates'])),\\\n",
    "                           'color': '#%02x%02x%02x' % (rgb_combo( rgb_range, max_value,results[key].shape[0])),\\\n",
    "                           'type': 'Feature'})\n",
    "    else:\n",
    "        print('No statistic selected')\n",
    "    \n",
    "display(button)\n",
    "button.on_click(on_button_clicked)"
   ]
  },
  {
   "cell_type": "code",
   "execution_count": null,
   "metadata": {
    "ExecuteTime": {
     "end_time": "2017-02-15T17:51:44.640991",
     "start_time": "2017-02-15T17:51:44.586991"
    },
    "collapsed": false,
    "deletable": true,
    "editable": true,
    "extensions": {
     "jupyter_dashboards": {
      "version": 1,
      "views": {
       "grid_default": {
        "col": 0,
        "height": 4,
        "hidden": true,
        "row": 4,
        "width": 4
       },
       "report_default": {
        "hidden": false
       }
      }
     }
    }
   },
   "outputs": [],
   "source": [
    "# Example of tabs - ignore for now\n",
    "#list = ['P0', 'P1', 'P2', 'P3', 'P4']\n",
    "#children = [accordion,update_map]\n",
    "#print(children)\n",
    "#tab = widgets.Tab(children=children)\n",
    "#tab"
   ]
  },
  {
   "cell_type": "markdown",
   "metadata": {
    "collapsed": false,
    "deletable": true,
    "editable": true,
    "extensions": {
     "jupyter_dashboards": {
      "version": 1,
      "views": {
       "grid_default": {
        "hidden": true
       },
       "report_default": {
        "hidden": true
       }
      }
     }
    }
   },
   "source": [
    "ul_lon, ul_lat = 77.83, 17.84 # upper left longitude, latitude\n",
    "lr_lon, lr_lat = 78.00, 17.67 # lower right longitude, latitude\n",
    "date_start, date_end = from_date_picker.value, to_date_picker.value  # start date and end date for time range selection  \n",
    "sensor_list=[\"olitirs8\", \"tm5\", \"etm7\"] # list of sensors to use\n",
    "\n",
    "polygon_list = [[ul_lon, ul_lat], [lr_lon, ul_lat],[lr_lon, lr_lat],[ul_lon, lr_lat],[ul_lon, ul_lat]]\n",
    "\n",
    "wrs_query = 'http://api.remotepixel.ca/wrs2tiles?search=poly:'+str(polygon_list)"
   ]
  },
  {
   "cell_type": "markdown",
   "metadata": {
    "collapsed": false,
    "deletable": true,
    "editable": true,
    "extensions": {
     "jupyter_dashboards": {
      "version": 1,
      "views": {
       "grid_default": {
        "col": 0,
        "height": 4,
        "hidden": true,
        "row": 26,
        "width": 4
       },
       "report_default": {
        "hidden": true
       }
      }
     }
    }
   },
   "source": [
    "post_query = requests.get(wrs_query)\n",
    "wrs_search_result = json.loads(post_query.text)\n",
    "\n",
    "path_row = []\n",
    "for item in wrs_search_result['results']:\n",
    "    path_row.append(str(item['path'])+\"_\"+str(item['row']))\n",
    "path_row"
   ]
  },
  {
   "cell_type": "markdown",
   "metadata": {
    "collapsed": true,
    "deletable": true,
    "editable": true,
    "extensions": {
     "jupyter_dashboards": {
      "version": 1,
      "views": {
       "grid_default": {
        "hidden": true
       },
       "report_default": {
        "hidden": true
       }
      }
     }
    }
   },
   "source": [
    "tips = sns.load_dataset('tips')"
   ]
  }
 ],
 "metadata": {
  "anaconda-cloud": {},
  "extensions": {
   "jupyter_dashboards": {
    "activeView": "report_default",
    "version": 1,
    "views": {
     "grid_default": {
      "cellMargin": 10,
      "defaultCellHeight": 20,
      "maxColumns": 12,
      "name": "grid",
      "type": "grid"
     },
     "report_default": {
      "name": "report",
      "type": "report"
     }
    }
   }
  },
  "kernelspec": {
   "display_name": "Python 3",
   "language": "python",
   "name": "python3"
  },
  "language_info": {
   "codemirror_mode": {
    "name": "ipython",
    "version": 3
   },
   "file_extension": ".py",
   "mimetype": "text/x-python",
   "name": "python",
   "nbconvert_exporter": "python",
   "pygments_lexer": "ipython3",
   "version": "3.5.3"
  },
  "toc": {
   "toc_cell": false,
   "toc_number_sections": true,
   "toc_threshold": 6,
   "toc_window_display": false
  },
  "widgets": {
   "state": {
    "03aa373dcff24a64a294ec90e2c02093": {
     "views": [
      {
       "cell_index": 16
      }
     ]
    },
    "0645c5676e604a5c9da8935e46dbdf1c": {
     "views": [
      {
       "cell_index": 18
      }
     ]
    },
    "09c5507118504bcc8bf32dac42b9f237": {
     "views": [
      {
       "cell_index": 16
      }
     ]
    },
    "0c0c6437e5174991874e2a9be5112b54": {
     "views": [
      {
       "cell_index": 14
      }
     ]
    },
    "105be5207081431390de6eab2f8a0b77": {
     "views": [
      {
       "cell_index": 16
      }
     ]
    },
    "12a813ccc1f94825a837fb3e320dc129": {
     "views": [
      {
       "cell_index": 16
      }
     ]
    },
    "13a1e1b90eb34d57a014a043a897b8b7": {
     "views": [
      {
       "cell_index": 14
      }
     ]
    },
    "19d85b88e7c64e86b590057775889830": {
     "views": [
      {
       "cell_index": 16
      }
     ]
    },
    "1be93999277a4fdb8ca7dea8484ba4aa": {
     "views": [
      {
       "cell_index": 16
      }
     ]
    },
    "21dbf4b6c28f4cb28cab817a40647c21": {
     "views": [
      {
       "cell_index": 14
      }
     ]
    },
    "26202349aead4d19a97fb82fcc78bbf1": {
     "views": [
      {
       "cell_index": 18
      }
     ]
    },
    "26ef9cb81c064e2b805ecc2ffd5a3690": {
     "views": [
      {
       "cell_index": 18
      }
     ]
    },
    "29d26da47cfe4ddcb77b685cd7d335f7": {
     "views": [
      {
       "cell_index": 16
      }
     ]
    },
    "2df4767326734e2aabc7aed257c942c7": {
     "views": [
      {
       "cell_index": 17
      }
     ]
    },
    "2df792faad1546948405dddffc244fb7": {
     "views": [
      {
       "cell_index": 17
      },
      {
       "cell_index": 17
      },
      {
       "cell_index": 17
      },
      {
       "cell_index": 17
      },
      {
       "cell_index": 17
      }
     ]
    },
    "2ff46cefc79844baa87b8ff1f2f9b02e": {
     "views": [
      {
       "cell_index": 14
      }
     ]
    },
    "338d20a3f2534773b4316c543277f7d4": {
     "views": [
      {
       "cell_index": 16
      }
     ]
    },
    "3a56e5f1bf54428b9a17ca779b6301c4": {
     "views": [
      {
       "cell_index": 16
      }
     ]
    },
    "3b59c15def0b4d9ea943134dc04bd99f": {
     "views": [
      {
       "cell_index": 18
      }
     ]
    },
    "3ccfe080ce034d47afb7850198deac37": {
     "views": [
      {
       "cell_index": 18
      }
     ]
    },
    "4a9185d8e71f468da63aafe307bb3a35": {
     "views": [
      {
       "cell_index": 16
      }
     ]
    },
    "4b13a0bafdf044d488dd7657b60f5951": {
     "views": [
      {
       "cell_index": 14
      }
     ]
    },
    "50149c1506da4978ab93051e14c8fa32": {
     "views": [
      {
       "cell_index": 14
      }
     ]
    },
    "5285f6c89ed24ff8a5e27700f29f6a20": {
     "views": [
      {
       "cell_index": 14
      }
     ]
    },
    "54c328e5a8134693911f0ca6f956bcce": {
     "views": [
      {
       "cell_index": 18
      }
     ]
    },
    "558738b760d047bd9b5083d92d58db1a": {
     "views": [
      {
       "cell_index": 14
      }
     ]
    },
    "55a6647fb5204020b0fdd787eeac73ee": {
     "views": [
      {
       "cell_index": 17
      }
     ]
    },
    "571b8d2b64654e47b869281af61504cf": {
     "views": [
      {
       "cell_index": 19
      }
     ]
    },
    "59aa6042cd704240960e7332751d8b9d": {
     "views": [
      {
       "cell_index": 17
      }
     ]
    },
    "61edc0a517884027983c0c3b7b1552ab": {
     "views": [
      {
       "cell_index": 17
      }
     ]
    },
    "6331264e9678456f84710d1e4396b76d": {
     "views": [
      {
       "cell_index": 16
      }
     ]
    },
    "6379f8ab76d94119972da991769261e5": {
     "views": [
      {
       "cell_index": 14
      }
     ]
    },
    "643c1745f7374680a4c8481a81729af8": {
     "views": [
      {
       "cell_index": 18
      }
     ]
    },
    "64b98b7f67aa4cfb8cda7035284785b2": {
     "views": [
      {
       "cell_index": 14
      }
     ]
    },
    "653d8ff250bf4e9aa90635a258a6acdf": {
     "views": [
      {
       "cell_index": 17
      }
     ]
    },
    "6737fb2890d94633ac45dbc2f709ad0e": {
     "views": [
      {
       "cell_index": 16
      }
     ]
    },
    "674a8c4d823640d191b4f0c3e4e3a7d1": {
     "views": [
      {
       "cell_index": 14
      }
     ]
    },
    "69d01b3680f04acf9bdff3b1250d3c17": {
     "views": [
      {
       "cell_index": 18
      }
     ]
    },
    "6c4f9682fdba438cbb50e9677ebbc2a7": {
     "views": [
      {
       "cell_index": 14
      }
     ]
    },
    "6ddda742b68f45bab769de687b252998": {
     "views": [
      {
       "cell_index": 16
      }
     ]
    },
    "7a1fe29daea4479da8548a885ccbdff6": {
     "views": [
      {
       "cell_index": 16
      }
     ]
    },
    "7bc9bf041c414cab9ff2b1f6ab258836": {
     "views": [
      {
       "cell_index": 14
      }
     ]
    },
    "7c01911583c94e06b2f62ba094839070": {
     "views": [
      {
       "cell_index": 18
      }
     ]
    },
    "7d5bf20964c849058cfb88c20da02a2b": {
     "views": [
      {
       "cell_index": 16
      }
     ]
    },
    "8166631f04bc4c348e54cfa738076b8a": {
     "views": [
      {
       "cell_index": 16
      }
     ]
    },
    "84c67126844d4a00bd7935fe5af280b0": {
     "views": [
      {
       "cell_index": 17
      }
     ]
    },
    "855ee67dff964955ae1156525f933e48": {
     "views": [
      {
       "cell_index": 17
      }
     ]
    },
    "8b35acc836fc4cb2942389531ba6c5bc": {
     "views": [
      {
       "cell_index": 16
      }
     ]
    },
    "8d4ee91e7ecb4965a3898368e7be3d53": {
     "views": [
      {
       "cell_index": 16
      }
     ]
    },
    "8dae55dbebf84d2ab87c0e9b9a57b603": {
     "views": [
      {
       "cell_index": 14
      }
     ]
    },
    "8f104787810048bbb58d3526564108e6": {
     "views": [
      {
       "cell_index": 16
      },
      {
       "cell_index": 16
      },
      {
       "cell_index": 17
      },
      {
       "cell_index": 17
      },
      {
       "cell_index": 17
      }
     ]
    },
    "9097273a3cd145ab98ff8705d185f62d": {
     "views": [
      {
       "cell_index": 18
      }
     ]
    },
    "92e8929778df4f4aa7c0eb3a698ce791": {
     "views": [
      {
       "cell_index": 16
      }
     ]
    },
    "9c50958f74d44751976874ea3e0f7955": {
     "views": [
      {
       "cell_index": 17
      }
     ]
    },
    "a1ce141663b94932af7c6024380539ba": {
     "views": [
      {
       "cell_index": 16
      }
     ]
    },
    "a463d6ca457b493b8ba5bf03d453589d": {
     "views": [
      {
       "cell_index": 17
      }
     ]
    },
    "afa90fe7ce20422b9035c154839af34e": {
     "views": [
      {
       "cell_index": 14
      }
     ]
    },
    "b0ed580ff0eb404eaadfb16c4e07d4ac": {
     "views": [
      {
       "cell_index": 17
      }
     ]
    },
    "b6e90f27b5f84aab947c4fd4a8ae9b8a": {
     "views": [
      {
       "cell_index": 14
      }
     ]
    },
    "b99b19fedd6c4d67b97d98c1bea28d8a": {
     "views": [
      {
       "cell_index": 16
      }
     ]
    },
    "bdb603cf1fb84bb598b0812caf8646c9": {
     "views": [
      {
       "cell_index": 16
      }
     ]
    },
    "c0e80081b3504ef0a675dcc77ba89928": {
     "views": [
      {
       "cell_index": 11
      }
     ]
    },
    "c3f0c71916a644c2888280c72d724800": {
     "views": [
      {
       "cell_index": 14
      }
     ]
    },
    "c755071f62734dee9f257477410d0091": {
     "views": [
      {
       "cell_index": 16
      }
     ]
    },
    "d2cfa7522a5c41718cf7294f52eae3ad": {
     "views": [
      {
       "cell_index": 17
      }
     ]
    },
    "d3c1c2b86f094956835586f7ed65fb00": {
     "views": [
      {
       "cell_index": 17
      }
     ]
    },
    "d4a022b2fb01448ebe300f5966a86f61": {
     "views": [
      {
       "cell_index": 14
      }
     ]
    },
    "d83a9cebb1d947f9bc0edb5b33253960": {
     "views": [
      {
       "cell_index": 14
      }
     ]
    },
    "ddcd8d208e3243eda4edc6f089c8b706": {
     "views": [
      {
       "cell_index": 18
      }
     ]
    },
    "df87a3c971624299924b302704ee8fa5": {
     "views": [
      {
       "cell_index": 16
      }
     ]
    },
    "e26f5675024a418da448d912e78aaca6": {
     "views": [
      {
       "cell_index": 18
      }
     ]
    },
    "e6482734af72467d84c5bd26e35a09ef": {
     "views": [
      {
       "cell_index": 14
      }
     ]
    },
    "e650754817e14bae841dbc4e0e378e5f": {
     "views": [
      {
       "cell_index": 17
      }
     ]
    },
    "e73d650864c84e25a65d30f3fc2b457c": {
     "views": [
      {
       "cell_index": 16
      }
     ]
    },
    "eae150e4af5b40a1ab05130f032bdbaa": {
     "views": [
      {
       "cell_index": 14
      }
     ]
    },
    "eea739f7963e4b46bec6520ed74bc7a0": {
     "views": [
      {
       "cell_index": 17
      }
     ]
    },
    "f322cab0962042f2928f9328dc6ae12f": {
     "views": [
      {
       "cell_index": 18
      }
     ]
    },
    "f60c9e4331c246699a0e1864a4ab412b": {
     "views": [
      {
       "cell_index": 16
      }
     ]
    },
    "f63e9f9fc7ea4ad39d02a72ba516224c": {
     "views": [
      {
       "cell_index": 17
      }
     ]
    },
    "f72353184c594434aeb70d1e2956fa48": {
     "views": [
      {
       "cell_index": 14
      }
     ]
    },
    "fafe0121a4c942918e63ecf5449af04d": {
     "views": [
      {
       "cell_index": 16
      }
     ]
    },
    "fb6e99b349194df38a3a55058d235b4f": {
     "views": [
      {
       "cell_index": 14
      }
     ]
    },
    "fb807c88eb064d0587f76054beda22be": {
     "views": [
      {
       "cell_index": 18
      }
     ]
    },
    "ffe5da107cf2418fbd4b1a8d4577f9fc": {
     "views": [
      {
       "cell_index": 14
      }
     ]
    }
   },
   "version": "1.2.0"
  }
 },
 "nbformat": 4,
 "nbformat_minor": 1
}
