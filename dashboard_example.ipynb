{
 "cells": [
  {
   "cell_type": "markdown",
   "metadata": {
    "deletable": true,
    "editable": true,
    "extensions": {
     "jupyter_dashboards": {
      "version": 1,
      "views": {
       "grid_default": {
        "col": 0,
        "height": 4,
        "hidden": false,
        "row": 0,
        "width": 12
       },
       "report_default": {
        "hidden": false
       }
      }
     }
    }
   },
   "source": [
    "# Archive statistics\n",
    "## Completeness"
   ]
  },
  {
   "cell_type": "code",
   "execution_count": null,
   "metadata": {
    "ExecuteTime": {
     "end_time": "2017-02-15T17:50:29.842991",
     "start_time": "2017-02-15T17:50:29.174991"
    },
    "collapsed": false,
    "deletable": true,
    "editable": true,
    "extensions": {
     "jupyter_dashboards": {
      "version": 1,
      "views": {
       "grid_default": {
        "hidden": true
       },
       "report_default": {
        "hidden": true
       }
      }
     }
    }
   },
   "outputs": [],
   "source": [
    "import ipywidgets as widgets\n",
    "widgets.Widget.widget_types\n",
    "import requests\n",
    "import geopy\n",
    "import pandas as pd\n",
    "from IPython.display import display\n",
    "%matplotlib inline\n",
    "\n",
    "import seaborn as sns\n",
    "import plotly\n",
    "from ipywidgets import interact\n",
    "\n",
    "import folium\n",
    "\n",
    "from geopy.geocoders import Nominatim\n",
    "geolocator = Nominatim(timeout=3)\n",
    "\n",
    "from IPython.display import clear_output\n",
    "\n",
    "import json"
   ]
  },
  {
   "cell_type": "code",
   "execution_count": null,
   "metadata": {
    "ExecuteTime": {
     "end_time": "2017-02-15T17:50:53.591991",
     "start_time": "2017-02-15T17:50:53.582991"
    },
    "collapsed": true,
    "deletable": true,
    "editable": true,
    "extensions": {
     "jupyter_dashboards": {
      "version": 1,
      "views": {
       "grid_default": {
        "hidden": true
       },
       "report_default": {
        "hidden": true
       }
      }
     }
    }
   },
   "outputs": [],
   "source": [
    "from __future__ import print_function\n",
    "\n",
    "from ipyleaflet import (\n",
    "    Map,\n",
    "    Marker,\n",
    "    TileLayer, ImageOverlay,\n",
    "    Polyline, Polygon, Rectangle, Circle, CircleMarker,\n",
    "    GeoJSON,\n",
    "    DrawControl\n",
    ")\n",
    "\n",
    "from traitlets import link"
   ]
  },
  {
   "cell_type": "code",
   "execution_count": null,
   "metadata": {
    "ExecuteTime": {
     "end_time": "2017-02-15T17:52:41.679991",
     "start_time": "2017-02-15T17:52:41.656991"
    },
    "collapsed": false,
    "deletable": true,
    "editable": true,
    "extensions": {
     "jupyter_dashboards": {
      "version": 1,
      "views": {
       "grid_default": {
        "col": 0,
        "height": 4,
        "hidden": true,
        "row": 26,
        "width": 4
       },
       "report_default": {
        "hidden": true
       }
      }
     }
    }
   },
   "outputs": [],
   "source": [
    "aoi_picker = widgets.Text(value='Canberra',placeholder='update this field',\n",
    "    description='placename search',\n",
    "    disabled=False)\n",
    "def handle_submit(sender):\n",
    "    global location\n",
    "    global center\n",
    "    global zoom\n",
    "    location = geolocator.geocode(aoi_picker.value)\n",
    "    center = [location.latitude, location.longitude]\n",
    "    zoom = 13\n",
    "    print(center)\n",
    "aoi_picker.on_submit(handle_submit)"
   ]
  },
  {
   "cell_type": "code",
   "execution_count": null,
   "metadata": {
    "ExecuteTime": {
     "end_time": "2017-02-15T17:50:54.850991",
     "start_time": "2017-02-15T17:50:54.831991"
    },
    "collapsed": false,
    "deletable": true,
    "editable": true,
    "extensions": {
     "jupyter_dashboards": {
      "version": 1,
      "views": {
       "grid_default": {
        "col": 8,
        "height": 4,
        "hidden": true,
        "row": 16,
        "width": 4
       },
       "report_default": {
        "hidden": true
       }
      }
     }
    }
   },
   "outputs": [],
   "source": [
    "from_date_picker = widgets.Text(value='2000-12-31',placeholder='update this field',\n",
    "    description='start date',\n",
    "    disabled=False)\n",
    "def handle_from_date(sender):\n",
    "    print(from_date_picker.value)\n",
    "from_date_picker.on_submit(handle_from_date)"
   ]
  },
  {
   "cell_type": "code",
   "execution_count": null,
   "metadata": {
    "ExecuteTime": {
     "end_time": "2017-02-15T17:50:55.368991",
     "start_time": "2017-02-15T17:50:55.339991"
    },
    "collapsed": false,
    "deletable": true,
    "editable": true,
    "extensions": {
     "jupyter_dashboards": {
      "version": 1,
      "views": {
       "grid_default": {
        "col": 5,
        "height": 4,
        "hidden": true,
        "row": 23,
        "width": 4
       },
       "report_default": {
        "hidden": true
       }
      }
     }
    }
   },
   "outputs": [],
   "source": [
    "to_date_picker = widgets.Text(value='2001-01-01',placeholder='update this field',\n",
    "    description='end date',\n",
    "    disabled=False)\n",
    "def handle_to_date(sender):\n",
    "    print(to_date_picker.value)\n",
    "to_date_picker.on_submit(handle_to_date)"
   ]
  },
  {
   "cell_type": "code",
   "execution_count": null,
   "metadata": {
    "ExecuteTime": {
     "end_time": "2017-02-15T17:50:55.789991",
     "start_time": "2017-02-15T17:50:55.773991"
    },
    "collapsed": false,
    "deletable": true,
    "editable": true,
    "extensions": {
     "jupyter_dashboards": {
      "version": 1,
      "views": {
       "grid_default": {
        "hidden": true
       },
       "report_default": {
        "hidden": true
       }
      }
     }
    }
   },
   "outputs": [],
   "source": [
    "product_picker = widgets.SelectMultiple(\n",
    "    options=['nbar_albers','nbart_albers', 'pq_albers','fc', 'water'],\n",
    "    description='product:',\n",
    "    disabled=False\n",
    ")"
   ]
  },
  {
   "cell_type": "code",
   "execution_count": null,
   "metadata": {
    "ExecuteTime": {
     "end_time": "2017-02-15T17:50:56.196991",
     "start_time": "2017-02-15T17:50:56.182991"
    },
    "collapsed": false,
    "deletable": true,
    "editable": true,
    "extensions": {
     "jupyter_dashboards": {
      "version": 1,
      "views": {
       "grid_default": {
        "col": 0,
        "height": 6,
        "hidden": true,
        "row": 26,
        "width": 2
       },
       "report_default": {
        "hidden": true
       }
      }
     }
    }
   },
   "outputs": [],
   "source": [
    "sensor_picker =widgets.SelectMultiple(\n",
    "    options=['ls5','ls7', 'ls8_oli','ls8'],\n",
    "    description='sensor:',\n",
    "    disabled=False\n",
    ")"
   ]
  },
  {
   "cell_type": "code",
   "execution_count": null,
   "metadata": {
    "ExecuteTime": {
     "end_time": "2017-02-15T17:52:50.986991",
     "start_time": "2017-02-15T17:52:50.952991"
    },
    "collapsed": false,
    "deletable": true,
    "editable": true,
    "extensions": {
     "jupyter_dashboards": {
      "version": 1,
      "views": {
       "grid_default": {
        "col": 0,
        "height": 22,
        "hidden": false,
        "row": 4,
        "width": 4
       },
       "report_default": {
        "hidden": false
       }
      }
     }
    }
   },
   "outputs": [],
   "source": [
    "accordion = widgets.Accordion(children=[product_picker, sensor_picker, from_date_picker, to_date_picker, aoi_picker])\n",
    "accordion.set_title(0, 'product')\n",
    "accordion.set_title(1, 'sensor')\n",
    "accordion.set_title(2, 'from date')\n",
    "accordion.set_title(3, 'to date')\n",
    "accordion.set_title(4, 'placename')\n",
    "accordion"
   ]
  },
  {
   "cell_type": "code",
   "execution_count": null,
   "metadata": {
    "ExecuteTime": {
     "end_time": "2017-02-15T17:54:27.237991",
     "start_time": "2017-02-15T17:54:27.210991"
    },
    "collapsed": false,
    "deletable": true,
    "editable": true,
    "extensions": {
     "jupyter_dashboards": {
      "version": 1,
      "views": {
       "grid_default": {
        "col": 4,
        "height": 12,
        "hidden": false,
        "row": 4,
        "width": 8
       },
       "report_default": {
        "hidden": false
       }
      }
     }
    }
   },
   "outputs": [],
   "source": [
    "# initialise the DrawControl to capture the geometry\n",
    "update_map = widgets.Button(description=\"Update map on click\")\n",
    "m = None\n",
    "def update_map_clicked(button):\n",
    "    global m\n",
    "    global zoom\n",
    "    global dc\n",
    "    if not m:\n",
    "        dc = DrawControl(polygon={'shapeOptions': {'color': '#0000FF'}}, polyline={'shapeOptions': {'color': '#00FF00'}},\n",
    "                      circle={'shapeOptions': {'color': '#0000FF'}}, rectangle={'shapeOptions': {'color': '#0000FF'}})\n",
    "        # add the DrawControl to the map\n",
    "        m = Map(center=center, zoom=zoom)\n",
    "        m.add_control(dc)\n",
    "        display(m)\n",
    "    else:\n",
    "        m.center = center\n",
    "display(update_map)\n",
    "update_map.on_click(update_map_clicked)"
   ]
  },
  {
   "cell_type": "code",
   "execution_count": null,
   "metadata": {
    "ExecuteTime": {
     "end_time": "2017-02-15T17:51:34.254991",
     "start_time": "2017-02-15T17:51:34.219991"
    },
    "collapsed": false,
    "deletable": true,
    "editable": true,
    "extensions": {
     "jupyter_dashboards": {
      "version": 1,
      "views": {
       "grid_default": {
        "col": 4,
        "height": 2,
        "hidden": false,
        "row": 16,
        "width": 2
       },
       "report_default": {
        "hidden": false
       }
      }
     }
    }
   },
   "outputs": [],
   "source": [
    "button = widgets.Button(description=\"Generate Report\")\n",
    "def on_button_clicked(button):\n",
    "    print('Generating your report now, hold onto your shorts')\n",
    "\n",
    "    print(product_picker.value, sensor_picker.value, from_date_picker.value, to_date_picker.value, dc.last_draw['geometry'])\n",
    "\n",
    "display(button)\n",
    "button.on_click(on_button_clicked)"
   ]
  },
  {
   "cell_type": "code",
   "execution_count": null,
   "metadata": {
    "ExecuteTime": {
     "end_time": "2017-02-15T17:51:44.640991",
     "start_time": "2017-02-15T17:51:44.586991"
    },
    "collapsed": false,
    "deletable": true,
    "editable": true,
    "extensions": {
     "jupyter_dashboards": {
      "version": 1,
      "views": {
       "grid_default": {
        "col": 0,
        "height": 4,
        "hidden": true,
        "row": 4,
        "width": 4
       },
       "report_default": {
        "hidden": false
       }
      }
     }
    }
   },
   "outputs": [],
   "source": [
    "list = ['P0', 'P1', 'P2', 'P3', 'P4']\n",
    "children = [accordion,update_map]\n",
    "print(children)\n",
    "tab = widgets.Tab(children=children)\n",
    "tab"
   ]
  },
  {
   "cell_type": "markdown",
   "metadata": {
    "collapsed": false,
    "deletable": true,
    "editable": true,
    "extensions": {
     "jupyter_dashboards": {
      "version": 1,
      "views": {
       "grid_default": {
        "hidden": true
       },
       "report_default": {
        "hidden": true
       }
      }
     }
    }
   },
   "source": [
    "ul_lon, ul_lat = 77.83, 17.84 # upper left longitude, latitude\n",
    "lr_lon, lr_lat = 78.00, 17.67 # lower right longitude, latitude\n",
    "date_start, date_end = from_date_picker.value, to_date_picker.value  # start date and end date for time range selection  \n",
    "sensor_list=[\"olitirs8\", \"tm5\", \"etm7\"] # list of sensors to use\n",
    "\n",
    "polygon_list = [[ul_lon, ul_lat], [lr_lon, ul_lat],[lr_lon, lr_lat],[ul_lon, lr_lat],[ul_lon, ul_lat]]\n",
    "\n",
    "wrs_query = 'http://api.remotepixel.ca/wrs2tiles?search=poly:'+str(polygon_list)"
   ]
  },
  {
   "cell_type": "markdown",
   "metadata": {
    "collapsed": false,
    "deletable": true,
    "editable": true,
    "extensions": {
     "jupyter_dashboards": {
      "version": 1,
      "views": {
       "grid_default": {
        "col": 0,
        "height": 4,
        "hidden": true,
        "row": 26,
        "width": 4
       },
       "report_default": {
        "hidden": true
       }
      }
     }
    }
   },
   "source": [
    "post_query = requests.get(wrs_query)\n",
    "wrs_search_result = json.loads(post_query.text)\n",
    "\n",
    "path_row = []\n",
    "for item in wrs_search_result['results']:\n",
    "    path_row.append(str(item['path'])+\"_\"+str(item['row']))\n",
    "path_row"
   ]
  },
  {
   "cell_type": "markdown",
   "metadata": {
    "collapsed": true,
    "deletable": true,
    "editable": true,
    "extensions": {
     "jupyter_dashboards": {
      "version": 1,
      "views": {
       "grid_default": {
        "hidden": true
       },
       "report_default": {
        "hidden": true
       }
      }
     }
    }
   },
   "source": [
    "tips = sns.load_dataset('tips')"
   ]
  }
 ],
 "metadata": {
  "extensions": {
   "jupyter_dashboards": {
    "activeView": "grid_default",
    "version": 1,
    "views": {
     "grid_default": {
      "cellMargin": 10,
      "defaultCellHeight": 20,
      "maxColumns": 12,
      "name": "grid",
      "type": "grid"
     },
     "report_default": {
      "name": "report",
      "type": "report"
     }
    }
   }
  },
  "kernelspec": {
   "display_name": "Python 3",
   "language": "python",
   "name": "python3"
  },
  "language_info": {
   "codemirror_mode": {
    "name": "ipython",
    "version": 3
   },
   "file_extension": ".py",
   "mimetype": "text/x-python",
   "name": "python",
   "nbconvert_exporter": "python",
   "pygments_lexer": "ipython3",
   "version": "3.5.3"
  },
  "toc": {
   "toc_cell": false,
   "toc_number_sections": true,
   "toc_threshold": 6,
   "toc_window_display": false
  },
  "widgets": {
   "state": {
    "2d5774bfbc174bf48226b986cacf1afc": {
     "views": [
      {
       "cell_index": 9
      }
     ]
    },
    "6b9b225fd74849d39c9cd62f2e5ca972": {
     "views": [
      {
       "cell_index": 10
      }
     ]
    },
    "83943a9872c040948618b1f816a4b6db": {
     "views": [
      {
       "cell_index": 11
      }
     ]
    },
    "bb0c6d52695f4a6c9073231f25938daa": {
     "views": [
      {
       "cell_index": 8
      }
     ]
    },
    "d430339650b3469ea247d2683f7aa609": {
     "views": [
      {
       "cell_index": 9
      }
     ]
    },
    "f06d00981bb44aec814437a7fe3b1a27": {
     "views": [
      {
       "cell_index": 9
      }
     ]
    }
   },
   "version": "1.2.0"
  }
 },
 "nbformat": 4,
 "nbformat_minor": 1
}
