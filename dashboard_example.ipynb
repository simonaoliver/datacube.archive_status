{
 "cells": [
  {
   "cell_type": "markdown",
   "metadata": {
    "deletable": true,
    "editable": true,
    "extensions": {
     "jupyter_dashboards": {
      "version": 1,
      "views": {
       "grid_default": {
        "col": 0,
        "height": 2,
        "hidden": false,
        "row": 0,
        "width": 12
       },
       "report_default": {
        "hidden": false
       }
      }
     }
    }
   },
   "source": [
    "# Archive statistics"
   ]
  },
  {
   "cell_type": "code",
   "execution_count": 1,
   "metadata": {
    "ExecuteTime": {
     "end_time": "2017-02-15T17:50:29.842991",
     "start_time": "2017-02-15T17:50:29.174991"
    },
    "collapsed": false,
    "deletable": true,
    "editable": true,
    "extensions": {
     "jupyter_dashboards": {
      "version": 1,
      "views": {
       "grid_default": {
        "hidden": true
       },
       "report_default": {
        "hidden": true
       }
      }
     }
    }
   },
   "outputs": [],
   "source": [
    "import ipywidgets as widgets\n",
    "widgets.Widget.widget_types\n",
    "import requests\n",
    "import geopy\n",
    "\n",
    "from IPython.display import display\n",
    "\n",
    "%matplotlib inline\n",
    "\n",
    "\n",
    "from ipywidgets import interact\n",
    "from ipywidgets import Label, Layout\n",
    "\n",
    "from IPython.display import clear_output\n",
    "\n",
    "import geopandas\n",
    "import itertools\n",
    "\n",
    "import os, json, requests, time\n",
    "import pandas as pd\n",
    "import geopandas as gpd\n",
    "from shapely.geometry import Polygon\n",
    "import gzip, zipfile\n",
    "\n",
    "import datacube\n",
    "from datacube.utils import geometry\n",
    "from datacube.model import Range\n",
    "from datetime import datetime\n",
    "from datetime import timedelta\n",
    "import shapely\n",
    "from datacube.api import GridWorkflow\n",
    "from datacube.utils.geometry import CRS\n",
    "from shapely.geometry import mapping\n",
    "\n",
    "import json\n",
    "\n",
    "dc = datacube.Datacube()\n",
    "\n",
    "import matplotlib as mpl\n",
    "import matplotlib.cm\n",
    "import matplotlib.colors\n",
    "import numpy as np"
   ]
  },
  {
   "cell_type": "code",
   "execution_count": 2,
   "metadata": {
    "collapsed": false,
    "deletable": true,
    "editable": true,
    "extensions": {
     "jupyter_dashboards": {
      "version": 1,
      "views": {
       "grid_default": {
        "col": 6,
        "height": 13,
        "hidden": true,
        "row": 17,
        "width": 6
       },
       "report_default": {
        "hidden": true
       }
      }
     }
    }
   },
   "outputs": [],
   "source": [
    "products = dc.list_products()['description'].tolist()\n",
    "products_name = dc.list_products()['name'].tolist()\n",
    "center = [-26, 132]\n",
    "zoom = 3"
   ]
  },
  {
   "cell_type": "code",
   "execution_count": 3,
   "metadata": {
    "collapsed": false,
    "deletable": true,
    "editable": true,
    "extensions": {
     "jupyter_dashboards": {
      "version": 1,
      "views": {
       "grid_default": {
        "hidden": true
       },
       "report_default": {
        "hidden": true
       }
      }
     }
    }
   },
   "outputs": [],
   "source": [
    "# Create a dict to allow product picker with description\n",
    "products_name = dc.list_products()['name'].tolist()\n",
    "product_dict = {}\n",
    "for idx, val in enumerate(products):\n",
    "    product_dict[val]= products_name[idx]"
   ]
  },
  {
   "cell_type": "code",
   "execution_count": 4,
   "metadata": {
    "ExecuteTime": {
     "end_time": "2017-02-15T17:50:53.591991",
     "start_time": "2017-02-15T17:50:53.582991"
    },
    "collapsed": false,
    "deletable": true,
    "editable": true,
    "extensions": {
     "jupyter_dashboards": {
      "version": 1,
      "views": {
       "grid_default": {
        "hidden": true
       },
       "report_default": {
        "hidden": true
       }
      }
     }
    }
   },
   "outputs": [],
   "source": [
    "from __future__ import print_function\n",
    "\n",
    "from ipyleaflet import (\n",
    "    Map,\n",
    "    Marker,\n",
    "    TileLayer, ImageOverlay,\n",
    "    Polyline, Polygon, Rectangle, Circle, CircleMarker,\n",
    "    GeoJSON,\n",
    "    DrawControl\n",
    ")\n",
    "\n",
    "from traitlets import link"
   ]
  },
  {
   "cell_type": "code",
   "execution_count": 5,
   "metadata": {
    "ExecuteTime": {
     "end_time": "2017-02-15T17:52:41.679991",
     "start_time": "2017-02-15T17:52:41.656991"
    },
    "collapsed": false,
    "deletable": true,
    "editable": true,
    "extensions": {
     "jupyter_dashboards": {
      "version": 1,
      "views": {
       "grid_default": {
        "col": 0,
        "height": 4,
        "hidden": true,
        "row": 26,
        "width": 4
       },
       "report_default": {
        "hidden": true
       }
      }
     }
    }
   },
   "outputs": [],
   "source": [
    "aoi_picker = widgets.Text(value='Canberra',placeholder='update this field',\n",
    "    description='placename search',\n",
    "    disabled=False)\n",
    "def handle_submit(sender):\n",
    "    global location\n",
    "    global center\n",
    "    global zoom\n",
    "    location = geolocator.geocode(aoi_picker.value)\n",
    "    center = [location.latitude, location.longitude]\n",
    "    zoom = 13\n",
    "    print(center)\n",
    "aoi_picker.on_submit(handle_submit)"
   ]
  },
  {
   "cell_type": "code",
   "execution_count": 6,
   "metadata": {
    "ExecuteTime": {
     "end_time": "2017-02-15T17:50:54.850991",
     "start_time": "2017-02-15T17:50:54.831991"
    },
    "collapsed": false,
    "deletable": true,
    "editable": true,
    "extensions": {
     "jupyter_dashboards": {
      "version": 1,
      "views": {
       "grid_default": {
        "col": 8,
        "height": 4,
        "hidden": true,
        "row": 16,
        "width": 4
       },
       "report_default": {
        "hidden": true
       }
      }
     }
    }
   },
   "outputs": [],
   "source": [
    "#TODO Replace with datepicker widget when ipywidgets devs sort this out\n",
    "from_date_picker = widgets.Text(value='2000-12-31',placeholder='update this field',\n",
    "    description='start date',\n",
    "    disabled=False)\n",
    "def handle_from_date(sender):\n",
    "    print(from_date_picker.value)\n",
    "from_date_picker.on_submit(handle_from_date)"
   ]
  },
  {
   "cell_type": "code",
   "execution_count": 7,
   "metadata": {
    "ExecuteTime": {
     "end_time": "2017-02-15T17:50:55.368991",
     "start_time": "2017-02-15T17:50:55.339991"
    },
    "collapsed": false,
    "deletable": true,
    "editable": true,
    "extensions": {
     "jupyter_dashboards": {
      "version": 1,
      "views": {
       "grid_default": {
        "col": 5,
        "height": 4,
        "hidden": true,
        "row": 23,
        "width": 4
       },
       "report_default": {
        "hidden": true
       }
      }
     }
    }
   },
   "outputs": [],
   "source": [
    "#TODO Replace with datepicker widget when ipywidgets devs sort this out\n",
    "to_date_picker = widgets.Text(value='2001-01-01',placeholder='update this field',\n",
    "    description='end date',\n",
    "    disabled=False)\n",
    "def handle_to_date(sender):\n",
    "    print(to_date_picker.value)\n",
    "to_date_picker.on_displayed(handle_to_date)"
   ]
  },
  {
   "cell_type": "code",
   "execution_count": 8,
   "metadata": {
    "ExecuteTime": {
     "end_time": "2017-02-15T17:50:55.789991",
     "start_time": "2017-02-15T17:50:55.773991"
    },
    "collapsed": false,
    "deletable": true,
    "editable": true,
    "extensions": {
     "jupyter_dashboards": {
      "version": 1,
      "views": {
       "grid_default": {
        "hidden": true
       },
       "report_default": {
        "hidden": true
       }
      }
     }
    }
   },
   "outputs": [],
   "source": [
    "product_picker = widgets.RadioButtons(\n",
    "    options=products,\n",
    "    description='product:',\n",
    "    disabled=False, layout=Layout(width='100%')\n",
    ")"
   ]
  },
  {
   "cell_type": "code",
   "execution_count": 9,
   "metadata": {
    "collapsed": false,
    "deletable": true,
    "editable": true,
    "extensions": {
     "jupyter_dashboards": {
      "version": 1,
      "views": {
       "grid_default": {
        "hidden": true
       },
       "report_default": {
        "hidden": true
       }
      }
     }
    }
   },
   "outputs": [],
   "source": [
    "gqa_products = []\n",
    "for i in products:\n",
    "    if 'Level 1' in i:\n",
    "        gqa_products.append(i)\n",
    "gqa_product_picker = widgets.RadioButtons(\n",
    "    options=gqa_products,\n",
    "    description='product:',\n",
    "    disabled=False, layout=Layout(width='100%')\n",
    ")"
   ]
  },
  {
   "cell_type": "code",
   "execution_count": 10,
   "metadata": {
    "collapsed": false,
    "deletable": true,
    "editable": true,
    "extensions": {
     "jupyter_dashboards": {
      "version": 1,
      "views": {
       "grid_default": {
        "hidden": true
       },
       "report_default": {
        "hidden": true
       }
      }
     }
    }
   },
   "outputs": [],
   "source": [
    "zoom_picker =widgets.RadioButtons(\n",
    "    options=[ 'country','regional','city'],\n",
    "    description='zoom:',\n",
    "    disabled=False\n",
    ")\n",
    "def handle_zoom_select(sender):\n",
    "    print(zoom_picker.value)\n",
    "zoom_picker.on_displayed(handle_to_date)"
   ]
  },
  {
   "cell_type": "code",
   "execution_count": 11,
   "metadata": {
    "collapsed": false,
    "deletable": true,
    "editable": true,
    "extensions": {
     "jupyter_dashboards": {
      "version": 1,
      "views": {
       "grid_default": {
        "hidden": true
       },
       "report_default": {
        "hidden": true
       }
      }
     }
    }
   },
   "outputs": [],
   "source": [
    "def geojson_grid_count(product_name, query):\n",
    "\n",
    "    dc = datacube.Datacube()\n",
    "    gw = datacube.api.GridWorkflow(dc.index, product=product_name)\n",
    "\n",
    "    cells = gw.list_cells(group_by='solar_day', product=product_name, **query)\n",
    "\n",
    "    geojson = cells_list_to_featurecollection(cells)\n",
    "    return(geojson)\n",
    "\n",
    "def cells_list_to_featurecollection(cells_dict):\n",
    "    return {'type': 'FeatureCollection',\n",
    "            'features': [tile_to_geojsonfeature(tile, cell=cell_to_str(cell))\n",
    "                         for cell, tile in cells_dict.items()]}\n",
    "\n",
    "def tile_to_geojsonfeature(tile, **props):\n",
    "    geometry = tile.geobox.extent.to_crs(CRS('EPSG:4326')).__geo_interface__\n",
    "    feature = {'type': 'Feature',\n",
    "               'geometry': geometry,\n",
    "               'properties': dict(count=str(len(tile.sources)),\n",
    "                                  **props)}\n",
    "    return feature\n",
    "\n",
    "def cell_to_str(cell):\n",
    "    return ', '.join(str(el) for el in cell)"
   ]
  },
  {
   "cell_type": "code",
   "execution_count": 12,
   "metadata": {
    "collapsed": false,
    "deletable": true,
    "editable": true,
    "extensions": {
     "jupyter_dashboards": {
      "version": 1,
      "views": {
       "grid_default": {
        "hidden": true
       },
       "report_default": {
        "hidden": true
       }
      }
     }
    }
   },
   "outputs": [],
   "source": [
    "def n_colors(n, colormap=mpl.cm.hot):\n",
    "    data = np.linspace(0.0,1.0,n)\n",
    "    c = [mpl.colors.rgb2hex(d[0:3]) for d in colormap(data)]\n",
    "    return c"
   ]
  },
  {
   "cell_type": "code",
   "execution_count": 13,
   "metadata": {
    "collapsed": false,
    "deletable": true,
    "editable": true,
    "extensions": {
     "jupyter_dashboards": {
      "version": 1,
      "views": {
       "grid_default": {
        "col": 0,
        "height": 15,
        "hidden": false,
        "row": 16,
        "width": 4
       },
       "report_default": {
        "hidden": false
       }
      }
     }
    }
   },
   "outputs": [],
   "source": [
    "drawcontrol = DrawControl(rectangle={'shapeOptions': {'color': '#0000FF'}})"
   ]
  },
  {
   "cell_type": "code",
   "execution_count": 14,
   "metadata": {
    "ExecuteTime": {
     "end_time": "2017-02-15T17:54:27.237991",
     "start_time": "2017-02-15T17:54:27.210991"
    },
    "collapsed": false,
    "deletable": true,
    "editable": true,
    "extensions": {
     "jupyter_dashboards": {
      "version": 1,
      "views": {
       "grid_default": {
        "col": 0,
        "height": 14,
        "hidden": false,
        "row": 2,
        "width": 12
       },
       "report_default": {
        "hidden": false
       }
      }
     }
    }
   },
   "outputs": [
    {
     "data": {
      "application/vnd.jupyter.widget-view+json": {
       "model_id": "1147eaa9cc14434ab4ad21e8f86cc63e"
      }
     },
     "metadata": {},
     "output_type": "display_data"
    },
    {
     "data": {
      "application/vnd.jupyter.widget-view+json": {
       "model_id": "f40ba336da7947318d27dcc91b9a47bb"
      }
     },
     "metadata": {},
     "output_type": "display_data"
    }
   ],
   "source": [
    "update_map = widgets.Button(description=\"Update map on click\")\n",
    "label = widgets.Text(layout=Layout(width='20%'))\n",
    "display(label)\n",
    "def hover_handler(event=None, id=None, properties=None):\n",
    "    label.value = properties['count']\n",
    "m = None\n",
    "drawcontrol.last_draw['geometry'] = None\n",
    "def update_map_clicked(button):\n",
    "    global m\n",
    "    global zoom\n",
    "    global drawcontrol\n",
    "    global data\n",
    "    \n",
    "    # clear the map\n",
    "    if m:\n",
    "        m.close()\n",
    "    # collect and set the zoom level\n",
    "    print(zoom_picker.value)\n",
    "    if (zoom_picker.value is 'city'):\n",
    "        zoom = 13\n",
    "    if (zoom_picker.value is 'regional'):\n",
    "        zoom = 7\n",
    "    if (zoom_picker.value is 'country'):\n",
    "        zoom = 3\n",
    "        \n",
    "    m = Map(center=center, zoom=zoom)\n",
    "\n",
    "    m.add_control(drawcontrol)\n",
    "\n",
    "    product = product_dict[product_picker.value]\n",
    "    \n",
    "    \n",
    "    if drawcontrol.last_draw['geometry'] is not None:\n",
    "        list_lat = []\n",
    "        list_lon = []\n",
    "        for i in drawcontrol.last_draw['geometry']['coordinates'][0]:\n",
    "            list_lon.append(i[0])\n",
    "            list_lat.append(i[1])\n",
    "\n",
    "        expression = {'time': (from_date_picker.value, to_date_picker.value),\n",
    "            'lat': (min(list_lat), max(list_lat)),\n",
    "            'lon': (min(list_lon), max(list_lon)),\n",
    "            }\n",
    "        print('Processing:', product, expression)\n",
    "        \n",
    "    else:\n",
    "        expression = {'time': (from_date_picker.value, to_date_picker.value)}\n",
    "    \n",
    "        print('Processing:', product, from_date_picker.value, to_date_picker.value)\n",
    "    \n",
    "    # Ensure the data request is valid\n",
    "    try:\n",
    "        data = geojson_grid_count(product, expression)\n",
    "    except:\n",
    "        print('invalid product and query parameters...modify parameters and try again')\n",
    "        return()\n",
    "    \n",
    "    counts = []\n",
    "    for property in data['features']:\n",
    "        counts.append(property['properties']['count'])\n",
    "\n",
    "    n_features = max(set(map(int, counts))) - min(set(map(int, counts)))\n",
    "    \n",
    "    if n_features == 0:\n",
    "        n_features = 1\n",
    "\n",
    "    colors = n_colors(n_features)\n",
    "    \n",
    "    for feature in data['features']:\n",
    "        feature['properties']['style'] = {'color':colors[int(feature['properties']['count'])- min(set(map(int, counts)))-1], 'weight': 1, 'fillColor':colors[int(feature['properties']['count'])- min(set(map(int, counts))) -1], 'fillOpacity':0.5}\n",
    "            \n",
    "            \n",
    "    layer = GeoJSON(data=data, hover_style={'fillColor': 'red'})\n",
    "        \n",
    "    layer.on_hover(hover_handler)\n",
    "    m.add_layer(layer)\n",
    "    m.center = center\n",
    "    #display(m, label)\n",
    "    display(m)\n",
    "    clear_output()\n",
    "display(update_map)\n",
    "update_map.on_click(update_map_clicked)"
   ]
  },
  {
   "cell_type": "code",
   "execution_count": 15,
   "metadata": {
    "collapsed": false,
    "deletable": true,
    "editable": true,
    "extensions": {
     "jupyter_dashboards": {
      "version": 1,
      "views": {
       "grid_default": {
        "hidden": true
       },
       "report_default": {
        "hidden": true
       }
      }
     }
    }
   },
   "outputs": [],
   "source": [
    "scene_gpdf = geopandas.GeoDataFrame.from_file('/g/data/v10/tmp/aoi_wrs2.geojson')"
   ]
  },
  {
   "cell_type": "code",
   "execution_count": 16,
   "metadata": {
    "collapsed": true,
    "deletable": true,
    "editable": true,
    "extensions": {
     "jupyter_dashboards": {
      "version": 1,
      "views": {
       "grid_default": {},
       "report_default": {
        "hidden": true
       }
      }
     }
    }
   },
   "outputs": [],
   "source": [
    "drawcontrol2 = DrawControl(rectangle={'shapeOptions': {'color': '#0000FF'}})"
   ]
  },
  {
   "cell_type": "code",
   "execution_count": 17,
   "metadata": {
    "collapsed": false,
    "deletable": true,
    "editable": true,
    "extensions": {
     "jupyter_dashboards": {
      "version": 1,
      "views": {
       "grid_default": {
        "hidden": true
       },
       "report_default": {
        "hidden": true
       }
      }
     }
    }
   },
   "outputs": [],
   "source": [
    "def get_gqa_data(product):\n",
    "\n",
    "    \n",
    "    if drawcontrol2.last_draw['geometry'] is not None:\n",
    "        list_lat = []\n",
    "        list_lon = []\n",
    "        for i in drawcontrol2.last_draw['geometry']['coordinates'][0]:\n",
    "            list_lon.append(i[0])\n",
    "            list_lat.append(i[1])\n",
    "\n",
    "        expression = {'time': (from_date_picker.value, to_date_picker.value),\n",
    "            'lat': (min(list_lat), max(list_lat)),\n",
    "            'lon': (min(list_lon), max(list_lon)),\n",
    "            'sat_path': (87,116),\n",
    "            'sat_row': (67,91)\n",
    "            }\n",
    "    else:\n",
    "        expression = {'time': (from_date_picker.value, to_date_picker.value),\n",
    "            'sat_path': (87,116),\n",
    "            'sat_row': (67,91)\n",
    "            }  \n",
    "\n",
    "\n",
    "    data = dc.find_datasets(product=product, **expression)\n",
    "    return(data)"
   ]
  },
  {
   "cell_type": "code",
   "execution_count": 18,
   "metadata": {
    "collapsed": false,
    "deletable": true,
    "editable": true,
    "extensions": {
     "jupyter_dashboards": {
      "version": 1,
      "views": {
       "grid_default": {},
       "report_default": {
        "hidden": true
       }
      }
     }
    }
   },
   "outputs": [],
   "source": [
    "gqa_data = []\n",
    "for item in gqa_products:\n",
    "    product = product_dict[item]\n",
    "    if gqa_data == []:\n",
    "        gqa_data = get_gqa_data(product)"
   ]
  },
  {
   "cell_type": "code",
   "execution_count": 19,
   "metadata": {
    "collapsed": false,
    "deletable": true,
    "editable": true,
    "extensions": {
     "jupyter_dashboards": {
      "version": 1,
      "views": {
       "grid_default": {
        "hidden": true
       },
       "report_default": {
        "hidden": false
       }
      }
     }
    }
   },
   "outputs": [],
   "source": [
    "gqa_slider_list = gqa_data[0].metadata_doc['gqa']['residual'].keys()\n",
    "gqa_slider = []    \n",
    "gqa_dict={}\n",
    "\n",
    "for i in gqa_slider_list:\n",
    "   \n",
    "    gqa_slider.append(widgets.FloatRangeSlider(\n",
    "        value=[0, 1],\n",
    "        min=-10,\n",
    "        max=10.0,\n",
    "        step=0.1,\n",
    "        description=i,\n",
    "        disabled=False,\n",
    "        continuous_update=False,\n",
    "        orientation='horizontal',\n",
    "        readout=True,\n",
    "        readout_format='i',\n",
    "        slider_color='white',\n",
    "        color='black'\n",
    "    ))\n",
    "gqa_sliders = widgets.VBox([widgets.VBox(gqa_slider)])"
   ]
  },
  {
   "cell_type": "code",
   "execution_count": 20,
   "metadata": {
    "collapsed": false,
    "deletable": true,
    "editable": true,
    "extensions": {
     "jupyter_dashboards": {
      "version": 1,
      "views": {
       "grid_default": {
        "hidden": true
       },
       "report_default": {
        "hidden": false
       }
      }
     }
    }
   },
   "outputs": [],
   "source": [
    "def get_gqa_dict(data):\n",
    "    gqadict={}\n",
    "    index = 0\n",
    "    for doc in data:   \n",
    "        gcp_count = (doc.metadata_doc['gqa']['final_gcp_count'])\n",
    "        residual = (doc.metadata_doc['gqa']['residual'])\n",
    "        path = (doc.metadata_doc['image']['satellite_ref_point_start']['x'])\n",
    "        row = (doc.metadata_doc['image']['satellite_ref_point_start']['y'])\n",
    "        path_row= str(path).zfill(3) + str(row).zfill(3)\n",
    "    \n",
    "        gqadict[index] = { 'PR': int(path_row), 'center_time': doc.center_time, 'gcp_count': gcp_count}#,\n",
    "\n",
    "        #get the statistics for each slider\n",
    "        slider_residual = {}\n",
    "        for i in gqa_slider_list:\n",
    "\n",
    "            if type(residual[i]) is dict:\n",
    "\n",
    "                gqadict[index].update({i: float(residual[i]['xy'])})\n",
    "            if type(residual[i]) is float:\n",
    "                gqadict[index].update({i: float(residual[i])})\n",
    "            \n",
    "        index = index+1\n",
    "    return(gqadict)"
   ]
  },
  {
   "cell_type": "code",
   "execution_count": 21,
   "metadata": {
    "collapsed": false,
    "deletable": true,
    "editable": true,
    "extensions": {
     "jupyter_dashboards": {
      "version": 1,
      "views": {
       "grid_default": {
        "hidden": true
       },
       "report_default": {
        "hidden": true
       }
      }
     }
    }
   },
   "outputs": [],
   "source": [
    "# select values between slider values\n",
    "def get_geojson_gqa(scenegpdf, gqadict):\n",
    "    queryresultgpdf = geopandas.GeoDataFrame\n",
    "    index = 0\n",
    "    gqapandas = queryresultgpdf.from_dict(gqadict).transpose()\n",
    "\n",
    "    for i in gqa_slider_list:\n",
    "    \n",
    "        gqapandas = gqapandas[gqapandas[i].between(gqa_slider[index].value[0], gqa_slider[index].value[1], inclusive=True)]\n",
    "        index = index + 1\n",
    "    count_gpdf = (gqapandas.groupby('PR').agg(['count'])).reset_index()[['PR','center_time']]\n",
    "    gqascene = geopandas.GeoDataFrame.merge(scenegpdf, count_gpdf, on='PR', how='inner')\n",
    "    gqascene = gqascene.rename(columns = {('center_time', 'count'): 'count'})\n",
    "    maxcount = gqascene['count'].max()\n",
    "    mincount = gqascene['count'].min()\n",
    "    geojsongqa = gqascene.to_json()\n",
    "    geojsongqa = json.loads(geojsongqa)\n",
    "    return(geojsongqa, mincount, maxcount)"
   ]
  },
  {
   "cell_type": "code",
   "execution_count": 22,
   "metadata": {
    "collapsed": false,
    "deletable": true,
    "editable": true,
    "extensions": {
     "jupyter_dashboards": {
      "version": 1,
      "views": {
       "grid_default": {},
       "report_default": {
        "hidden": true
       }
      }
     }
    }
   },
   "outputs": [],
   "source": [
    "gqa_dict = get_gqa_dict(gqa_data)"
   ]
  },
  {
   "cell_type": "code",
   "execution_count": 23,
   "metadata": {
    "collapsed": false,
    "deletable": true,
    "editable": true,
    "extensions": {
     "jupyter_dashboards": {
      "version": 1,
      "views": {
       "grid_default": {
        "hidden": true
       },
       "report_default": {
        "hidden": true
       }
      }
     }
    }
   },
   "outputs": [],
   "source": [
    "save_csv = widgets.Text(value='file.csv',placeholder='enter your destination file path',\n",
    "    description='CSV export',\n",
    "    disabled=False)\n",
    "def handle_save(sender):\n",
    "    geopandas = gpd.GeoDataFrame.from_features(data['features'])\n",
    "    geopandas.to_csv(save_csv.value)\n",
    "    clear_output()\n",
    "    print('file saved')\n",
    "\n",
    "save_csv.on_submit(handle_save)"
   ]
  },
  {
   "cell_type": "code",
   "execution_count": 24,
   "metadata": {
    "collapsed": false,
    "deletable": true,
    "editable": true,
    "extensions": {
     "jupyter_dashboards": {
      "version": 1,
      "views": {
       "grid_default": {
        "hidden": true
       },
       "report_default": {
        "hidden": true
       }
      }
     }
    }
   },
   "outputs": [],
   "source": [
    "save_geojson = widgets.Text(value='file.geojson',placeholder='enter your destination file path',\n",
    "    description='GeoJSON export',\n",
    "    disabled=False)\n",
    "    \n",
    "def handle_save_geojson(sender):\n",
    "    with open(save_geojson.value, 'w') as outfile:\n",
    "        json.dump(data, outfile)\n",
    "    print('file saved')\n",
    "\n",
    "save_geojson.on_submit(handle_save_geojson)"
   ]
  },
  {
   "cell_type": "code",
   "execution_count": 25,
   "metadata": {
    "collapsed": true,
    "deletable": true,
    "editable": true,
    "extensions": {
     "jupyter_dashboards": {
      "version": 1,
      "views": {
       "grid_default": {
        "hidden": true
       },
       "report_default": {
        "hidden": true
       }
      }
     }
    }
   },
   "outputs": [],
   "source": [
    "save_shp = widgets.Text(value='file.shp',placeholder='enter your destination file path',\n",
    "    description='SHP export',\n",
    "    disabled=False)\n",
    "def handle_save(sender):\n",
    "    geopandas = gpd.GeoDataFrame.from_features(data['features'])\n",
    "    geopandas.crs= \"+proj=longlat +ellps=WGS84 +datum=WGS84 +no_defs\"\n",
    "    geopandas.to_file(save_shp.value, driver='ESRI Shapefile')\n",
    "    print('file saved')\n",
    "\n",
    "save_shp.on_submit(handle_save)"
   ]
  },
  {
   "cell_type": "code",
   "execution_count": 26,
   "metadata": {
    "collapsed": false,
    "deletable": true,
    "editable": true,
    "extensions": {
     "jupyter_dashboards": {
      "version": 1,
      "views": {
       "grid_default": {
        "col": null,
        "height": 15,
        "hidden": false,
        "row": 17,
        "width": null
       },
       "report_default": {
        "hidden": true
       }
      }
     }
    }
   },
   "outputs": [
    {
     "data": {
      "application/vnd.jupyter.widget-view+json": {
       "model_id": "437a47bb318e4aec9906f6516a47058e"
      }
     },
     "metadata": {},
     "output_type": "display_data"
    },
    {
     "data": {
      "application/vnd.jupyter.widget-view+json": {
       "model_id": "9b510cd918774e52b8f7af6dffecbb81"
      }
     },
     "metadata": {},
     "output_type": "display_data"
    }
   ],
   "source": [
    "update_gqa = widgets.Button(description=\"Update GQA on click\")\n",
    "gqa_label = widgets.Text(layout=Layout(width='20%'))\n",
    "display(gqa_label)\n",
    "\n",
    "def gqa_hover_handler(event=None, id=None, properties=None):\n",
    "    gqa_label.value = str(properties['count'])\n",
    "m2 = None\n",
    "drawcontrol2.last_draw['geometry'] = None\n",
    "product = None\n",
    "def update_gqa_clicked(button):\n",
    "    global m2\n",
    "    global zoom\n",
    "    global drawcontrol2\n",
    "    global gqa_data\n",
    "    \n",
    "    # clear the map\n",
    "    if m2:\n",
    "        m2.close()\n",
    "    # collect and set the zoom level\n",
    "    print(zoom_picker.value)\n",
    "    if (zoom_picker.value is 'city'):\n",
    "        zoom = 13\n",
    "    if (zoom_picker.value is 'regional'):\n",
    "        zoom = 7\n",
    "    if (zoom_picker.value is 'country'):\n",
    "        zoom = 3\n",
    "       \n",
    "    m2 = Map(center=center, zoom=zoom)\n",
    "\n",
    "    m2.add_control(drawcontrol2)\n",
    "    product = product_dict[gqa_product_picker.value]  \n",
    "    # Ensure the data request is valid\n",
    "    \n",
    "    try:\n",
    "        gqa_data = get_gqa_data(product)\n",
    "\n",
    "        gqa_dict = get_gqa_dict(gqa_data)\n",
    "        \n",
    "        geojson_gqa, min_count, max_count = get_geojson_gqa(scene_gpdf, gqa_dict)\n",
    "        \n",
    "        \n",
    "    except:\n",
    "        print('invalid product and query parameters...modify parameters and try again')\n",
    "        return()\n",
    "    \n",
    "    counts = []\n",
    "\n",
    "    for feature in geojson_gqa['features']:\n",
    "        \n",
    "        counts.append(feature['properties']['count'])\n",
    "        \n",
    "\n",
    "    n_features = max(set(map(int, counts))) - min(set(map(int, counts)))\n",
    "    \n",
    "    if n_features == 0:\n",
    "        n_features = 1\n",
    "\n",
    "    colors = n_colors(n_features) \n",
    "    \n",
    "    for feature in geojson_gqa['features']:\n",
    "        feature['properties']['style'] = {'color':colors[int(feature['properties']['count'])- min(set(map(int, counts)))-1], 'weight': 1, 'fillColor':colors[int(feature['properties']['count'])- min(set(map(int, counts))) -1], 'fillOpacity':0.5}\n",
    "                       \n",
    "    gqa_layer = GeoJSON(data=geojson_gqa, hover_style={'fillColor': 'red'})\n",
    "        \n",
    "    gqa_layer.on_hover(gqa_hover_handler)\n",
    "    m2.add_layer(gqa_layer)\n",
    "    m2.center = center\n",
    "\n",
    "    display(m2)\n",
    "    clear_output()\n",
    "display(update_gqa)\n",
    "update_gqa.on_click(update_gqa_clicked)"
   ]
  },
  {
   "cell_type": "code",
   "execution_count": 27,
   "metadata": {
    "ExecuteTime": {
     "end_time": "2017-02-15T17:52:50.986991",
     "start_time": "2017-02-15T17:52:50.952991"
    },
    "collapsed": false,
    "deletable": true,
    "editable": true,
    "extensions": {
     "jupyter_dashboards": {
      "version": 1,
      "views": {
       "grid_default": {
        "col": 6,
        "height": 14,
        "hidden": false,
        "row": 16,
        "width": 6
       },
       "report_default": {
        "hidden": false
       }
      }
     }
    }
   },
   "outputs": [],
   "source": [
    "accordion0 = widgets.Accordion(children=[ product_picker,from_date_picker, to_date_picker, aoi_picker,zoom_picker,save_csv, save_geojson, save_shp], description='Count')#,stats_picker ])\n",
    "accordion0.set_title(0, 'product')\n",
    "accordion0.set_title(1, 'from date')\n",
    "accordion0.set_title(2, 'to date')\n",
    "accordion0.set_title(3, 'placename')\n",
    "accordion0.set_title(4, 'zoom level')\n",
    "accordion0.set_title(5, 'Export CSV')\n",
    "accordion0.set_title(6, 'Export GeoJSON')\n",
    "accordion0.set_title(7, 'Export SHP')\n"
   ]
  },
  {
   "cell_type": "code",
   "execution_count": 28,
   "metadata": {
    "collapsed": false,
    "deletable": true,
    "editable": true,
    "extensions": {
     "jupyter_dashboards": {
      "version": 1,
      "views": {
       "grid_default": {
        "hidden": true
       },
       "report_default": {
        "hidden": true
       }
      }
     }
    }
   },
   "outputs": [],
   "source": [
    "accordion1 = widgets.Accordion(children=[gqa_product_picker, gqa_sliders], description='GQA')#,stats_picker ])\n",
    "accordion1.set_title(0, 'product')\n",
    "accordion1.set_title(1, 'residual')\n",
    "tab1 = widgets.VBox([update_gqa, accordion1])"
   ]
  },
  {
   "cell_type": "code",
   "execution_count": 29,
   "metadata": {
    "ExecuteTime": {
     "end_time": "2017-02-15T17:51:44.640991",
     "start_time": "2017-02-15T17:51:44.586991"
    },
    "collapsed": false,
    "deletable": true,
    "editable": true,
    "extensions": {
     "jupyter_dashboards": {
      "version": 1,
      "views": {
       "grid_default": {
        "col": 0,
        "height": 4,
        "hidden": true,
        "row": 4,
        "width": 4
       },
       "report_default": {
        "hidden": false
       }
      }
     }
    }
   },
   "outputs": [
    {
     "data": {
      "application/vnd.jupyter.widget-view+json": {
       "model_id": "71f80039dc7d473da625a062e165400b"
      }
     },
     "metadata": {},
     "output_type": "display_data"
    },
    {
     "name": "stdout",
     "output_type": "stream",
     "text": [
      "2001-01-01\n",
      "2001-01-01\n"
     ]
    }
   ],
   "source": [
    "# Ipywidget Tabs\n",
    "children = [ accordion0, tab1]\n",
    "tab = widgets.Tab(children=children, _titles={0: 'Statistics', 1: 'GQA'})\n",
    "display(tab)"
   ]
  },
  {
   "cell_type": "code",
   "execution_count": null,
   "metadata": {
    "collapsed": true,
    "deletable": true,
    "editable": true,
    "extensions": {
     "jupyter_dashboards": {
      "version": 1,
      "views": {
       "grid_default": {},
       "report_default": {
        "hidden": true
       }
      }
     }
    }
   },
   "outputs": [],
   "source": []
  }
 ],
 "metadata": {
  "anaconda-cloud": {},
  "extensions": {
   "jupyter_dashboards": {
    "activeView": "report_default",
    "version": 1,
    "views": {
     "grid_default": {
      "cellMargin": 10,
      "defaultCellHeight": 20,
      "maxColumns": 12,
      "name": "grid",
      "type": "grid"
     },
     "report_default": {
      "name": "report",
      "type": "report"
     }
    }
   }
  },
  "kernelspec": {
   "display_name": "Python 3",
   "language": "python",
   "name": "python3"
  },
  "language_info": {
   "codemirror_mode": {
    "name": "ipython",
    "version": 3
   },
   "file_extension": ".py",
   "mimetype": "text/x-python",
   "name": "python",
   "nbconvert_exporter": "python",
   "pygments_lexer": "ipython3",
   "version": "3.5.3"
  },
  "toc": {
   "toc_cell": false,
   "toc_number_sections": true,
   "toc_threshold": 6,
   "toc_window_display": false
  },
  "widgets": {
   "state": {
    "11a7b8e43d7049c68dd76e253c2ccaae": {
     "views": [
      {
       "cell_index": 21
      }
     ]
    },
    "2a8307c69efa4d6f902a828857248f03": {
     "views": [
      {
       "cell_index": 15
      }
     ]
    },
    "4275e53c91254e31a4785a9a4fe31ef1": {
     "views": [
      {
       "cell_index": 40
      }
     ]
    },
    "611ab8cd84644f06b62d6214ce580181": {
     "views": [
      {
       "cell_index": 15
      },
      {
       "cell_index": 15
      },
      {
       "cell_index": 15
      }
     ]
    },
    "7b9005566ffe42d0b312c073f1fc20b7": {
     "views": [
      {
       "cell_index": 15
      }
     ]
    }
   },
   "version": "1.2.0"
  }
 },
 "nbformat": 4,
 "nbformat_minor": 1
}
